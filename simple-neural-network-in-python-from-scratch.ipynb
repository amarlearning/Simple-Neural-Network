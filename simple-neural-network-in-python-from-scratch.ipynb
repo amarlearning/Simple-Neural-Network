{
 "cells": [
  {
   "cell_type": "markdown",
   "metadata": {},
   "source": [
    "### ** Perceptron Network written in Python and Numpy (w/o any scify libraries) **\n",
    "\n",
    "I have just completed my basics of machine learning, so thought to write a very simple neural network or a perceptron network using a very small dataset specially for begineers.\n",
    "\n",
    "So, **Perceptron is a single layer neural network and a multi-layer perceptron is called Neural Networks**. Here is a diagram that shows the structure of a simple perceptron network. For the below Perceptron Network, I have written code in python and numpy without any scify libraries.\n",
    "\n",
    "![Perceptron Network](https://www.kdnuggets.com/wp-content/uploads/simple-neural-network.png)\n",
    "\n",
    "> [Here](https://www.kaggle.com/amarpandey/neural-network-in-python-from-scratch) is another Neural Network written in python and numpy using a totally different approach without any sicfy libraries.\n",
    "\n",
    "Comments/Crits/Corrections welcome. Thanks!"
   ]
  },
  {
   "cell_type": "code",
   "execution_count": 1,
   "metadata": {
    "_cell_guid": "b1076dfc-b9ad-4769-8c92-a6c4dae69d19",
    "_uuid": "8f2839f25d086af736a60e9eeb907d3b93b6e0e5"
   },
   "outputs": [],
   "source": [
    "# This Python 3 environment comes with many helpful analytics libraries installed\n",
    "# It is defined by the kaggle/python docker image: https://github.com/kaggle/docker-python\n",
    "# For example, here's several helpful packages to load in \n",
    "\n",
    "import numpy as np # linear algebra\n",
    "import pandas as pd # data processing, CSV file I/O (e.g. pd.read_csv)\n",
    "\n",
    "# crazy things, to show graphs between cells\n",
    "%matplotlib inline\n",
    "\n",
    "from matplotlib import pyplot as plt # for data visualisation"
   ]
  },
  {
   "cell_type": "markdown",
   "metadata": {},
   "source": [
    "### Load Data"
   ]
  },
  {
   "cell_type": "code",
   "execution_count": 2,
   "metadata": {},
   "outputs": [],
   "source": [
    "# Input and Output of our training dataset\n",
    "training_input = np.array([[0,0,1],\n",
    "                           [1,1,1],\n",
    "                           [1,0,1],\n",
    "                           [0,1,1]])\n",
    "\n",
    "training_output = np.array([[0,1,1,0]]).T\n",
    "\n",
    "# Output will be 1 in this case\n",
    "testing_input = np.array([1, 0, 0])"
   ]
  },
  {
   "cell_type": "code",
   "execution_count": 3,
   "metadata": {},
   "outputs": [],
   "source": [
    "# Simple Neural Network class to train model and predict values\n",
    "class PerceptronNetwork():\n",
    "\n",
    "    def __init__(self):\n",
    "        \n",
    "        # seeding for random number generation         \n",
    "        np.random.seed(1)\n",
    "        \n",
    "        # List to capture cost value for each iteration        \n",
    "        self.cost_value = []\n",
    "        \n",
    "        # Learning rate, slow progress         \n",
    "        self.learning_rate = 0.03\n",
    "        \n",
    "        # Weights in 3 x 1 matrix with values form -1 to 1 with a mean of 0         \n",
    "        self.synaptic_weight = 2 * np.random.random((3,1)) - 1\n",
    "    \n",
    "    # Activation function    \n",
    "    def sigmoid(self, x):\n",
    "        return 1.0 / (1 + np.exp(-x))\n",
    "    \n",
    "    # Derivative of Activation function     \n",
    "    def sigmoid_derivative(self, x):\n",
    "        return x * (1 - x)\n",
    "    \n",
    "    # Predict output based using the current weight\n",
    "    def predict(self, inputs):\n",
    "        return self.sigmoid(np.dot(inputs.astype(float), self.synaptic_weight))\n",
    "    \n",
    "    # Calculate diff in predicted and targeted output and adjust weight   \n",
    "    def train(self, training_input, training_output, training_iteration):\n",
    "        for itr in range(training_iteration):\n",
    "            \n",
    "            # Get predicted value using our current wights and bias    \n",
    "            prediction = self.predict(training_input)\n",
    "            \n",
    "            # calculating cost using predicted and targeted output and appending them in list\n",
    "            # for Cost vs Iteration graph\n",
    "            self.cost_value.append(sum(np.square(training_output - prediction)))\n",
    "            \n",
    "            # Calculating derivative of Cost w.r.t Predection            \n",
    "            error = 2 * (training_output - prediction)\n",
    "            \n",
    "            # Calculating adjustment needed to be done in weights to lower the cost value            \n",
    "            adjustment = np.dot(training_input.T, (error * self.sigmoid_derivative(prediction)))\n",
    "            \n",
    "            # Multiplying adjustment with learning rate and adding them to the current weights            \n",
    "            self.synaptic_weight += (self.learning_rate * adjustment)\n",
    "            "
   ]
  },
  {
   "cell_type": "code",
   "execution_count": 4,
   "metadata": {
    "_cell_guid": "79c7e3d0-c299-4dcb-8224-4455121ee9b0",
    "_uuid": "d629ff2d2480ee46fbb7e2d37f6b5fab8052498a"
   },
   "outputs": [
    {
     "name": "stdout",
     "output_type": "stream",
     "text": [
      "Synaptic Weights (Before Training) : [[-0.16595599  0.44064899 -0.99977125]]\n",
      "Synaptic Weights (After Training) : [[ 5.92033872 -0.21860369 -2.74070304]]\n"
     ]
    },
    {
     "data": {
      "image/png": "[encoded data removed]",
      "text/plain": [
       "<Figure size 432x288 with 1 Axes>"
      ]
     },
     "metadata": {},
     "output_type": "display_data"
    }
   ],
   "source": [
    "# Let's use the Neural Network class to train our model using training dataset and then predict test dataset\n",
    "perceptron_network = PerceptronNetwork()\n",
    "\n",
    "print(\"Synaptic Weights (Before Training) : %s\" % (perceptron_network.synaptic_weight.T))\n",
    "\n",
    "# Adjust the weights according to out input and output data\n",
    "perceptron_network.train(training_input, training_output, 5000)\n",
    "\n",
    "print(\"Synaptic Weights (After Training) : %s\" % (perceptron_network.synaptic_weight.T))\n",
    "\n",
    "# Let's plot the graph of Cost value w.r.t iteration count\n",
    "plt.plot(perceptron_network.cost_value)\n",
    "plt.grid()"
   ]
  },
  {
   "cell_type": "code",
   "execution_count": 5,
   "metadata": {},
   "outputs": [
    {
     "name": "stdout",
     "output_type": "stream",
     "text": [
      "Prediction for Testing input is :  [0.9973229]\n"
     ]
    }
   ],
   "source": [
    "# Let's make predection for our testing data, whoes predicted output values is 1\n",
    "print(\"Prediction for Testing input is : \", perceptron_network.predict(testing_input))"
   ]
  }
 ],
 "metadata": {
  "kernelspec": {
   "display_name": "Python 3",
   "language": "python",
   "name": "python3"
  },
  "language_info": {
   "codemirror_mode": {
    "name": "ipython",
    "version": 3
   },
   "file_extension": ".py",
   "mimetype": "text/x-python",
   "name": "python",
   "nbconvert_exporter": "python",
   "pygments_lexer": "ipython3",
   "version": "3.6.6"
  }
 },
 "nbformat": 4,
 "nbformat_minor": 1
}
